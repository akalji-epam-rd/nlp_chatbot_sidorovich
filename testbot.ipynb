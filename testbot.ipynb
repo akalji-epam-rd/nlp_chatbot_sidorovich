{
 "cells": [
  {
   "cell_type": "code",
   "execution_count": null,
   "metadata": {},
   "outputs": [],
   "source": [
    "from rasa_nlu.model import Metadata, Interpreter"
   ]
  },
  {
   "cell_type": "code",
   "execution_count": 2,
   "metadata": {},
   "outputs": [
    {
     "name": "stdout",
     "output_type": "stream",
     "text": [
      "Writing 'nlu_md' (str) to file 'nlu.md'.\n",
      "The data has been successfully saved inside the nlu.md file! You can move on to the next step!\n"
     ]
    }
   ],
   "source": [
    "nlu_md = \"\"\"\n",
    "## intent:greet\n",
    "- hey\n",
    "- hello\n",
    "- hi\n",
    "- good morning\n",
    "- good evening\n",
    "- hey there\n",
    "\n",
    "## intent:goodbye\n",
    "- bye\n",
    "- goodbye\n",
    "- see you around\n",
    "- see you later\n",
    "\"\"\"\n",
    "%store nlu_md > nlu.md\n",
    "\n",
    "print(\"The data has been successfully saved inside the nlu.md file! You can move on to the next step!\")"
   ]
  },
  {
   "cell_type": "code",
   "execution_count": 3,
   "metadata": {},
   "outputs": [
    {
     "name": "stdout",
     "output_type": "stream",
     "text": [
      "Writing 'nlu_config' (str) to file 'nlu_config.yml'.\n",
      "The configuration has been successfully stored inside the nlu_config.yml file. You can now move on to the next step!\n"
     ]
    }
   ],
   "source": [
    "nlu_config = \"\"\"\n",
    "language: \"en\"\n",
    "pipeline: spacy_sklearn\n",
    "\"\"\"\n",
    "#w = open(\"nlu_config.yml\", \"w\")\n",
    "#w.write(nlu_config)\n",
    "#w.close\n",
    "%store nlu_config > nlu_config.yml\n",
    "\n",
    "print(\"The configuration has been successfully stored inside the nlu_config.yml file. You can now move on to the next step!\")"
   ]
  },
  {
   "cell_type": "code",
   "execution_count": null,
   "metadata": {},
   "outputs": [],
   "source": [
    "!python -m rasa_nlu.train -c C:\\Users\\Alex\\Projects\\rasabot\\nlu_config.yml --data C:\\Users\\Alex\\Projects\\rasabot\\nlu.md -o models --fixed_model_name nlu --project current --verbose\n",
    "\n",
    "print(\"The NLU model has been trained successfully! You can move to the next step!\")"
   ]
  },
  {
   "cell_type": "code",
   "execution_count": null,
   "metadata": {},
   "outputs": [],
   "source": [
    "from rasa_nlu.model import Metadata, Interpreter\n",
    "import json\n",
    "\n",
    "def pprint(o):\n",
    " # small helper to make dict dumps a bit prettier\n",
    "    print(json.dumps(o, indent=2))\n",
    "\n",
    "interpreter = Interpreter.load('./models/current/nlu')\n",
    "pprint(interpreter.parse('great'))"
   ]
  },
  {
   "cell_type": "code",
   "execution_count": 4,
   "metadata": {},
   "outputs": [
    {
     "name": "stdout",
     "output_type": "stream",
     "text": [
      "Writing 'stories_md' (str) to file 'stories.md'.\n",
      "The training stories have been successfully saved inside the stories.md file. You can move on to the next step!\n"
     ]
    }
   ],
   "source": [
    "stories_md = \"\"\"\n",
    "\n",
    "## story 1\n",
    "* greet\n",
    "  - memory_visit\n",
    "  - slot{\"id\" : \"1\"}\n",
    "  \n",
    "## story 2\n",
    "* greet\n",
    "  - memory_visit\n",
    "  - slot{\"id\" : \"5\"}\n",
    "  \n",
    "## story 3\n",
    "* greet\n",
    "  - memory_visit\n",
    "  - slot{\"id\" : \"19\"}\n",
    "  \n",
    "## story 4\n",
    "* greet\n",
    "  - memory_visit\n",
    "  - slot{\"id\" : \"56\"}\n",
    "\n",
    "## story 5\n",
    "* greet\n",
    "  - memory_visit\n",
    "  - slot{\"id\" : \"2\"}\n",
    "\n",
    "## story 6\n",
    "* greet\n",
    "  - memory_visit\n",
    "  - slot{\"id\" : \"100\"}\n",
    "\n",
    "## story 7\n",
    "* greet\n",
    "  - memory_visit\n",
    "  - slot{\"id\" : \"74\"}\n",
    "\n",
    "## say goodbye\n",
    "* goodbye\n",
    "  - utter_goodbye\n",
    "  \n",
    "## dialogue \n",
    "* greet\n",
    "  - memory_visit\n",
    "* goodbye\n",
    "  - utter_goodbye\n",
    "\n",
    "\"\"\"\n",
    "%store stories_md > stories.md\n",
    "\n",
    "print(\"The training stories have been successfully saved inside the stories.md file. You can move on to the next step!\")"
   ]
  },
  {
   "cell_type": "code",
   "execution_count": 5,
   "metadata": {},
   "outputs": [
    {
     "name": "stdout",
     "output_type": "stream",
     "text": [
      "Writing 'domain_yml' (str) to file 'domain.yml'.\n",
      "The domain has been successfully saved inside the domain.yml file. You can move on to the next step!\n"
     ]
    }
   ],
   "source": [
    "domain_yml = \"\"\"\n",
    "intents:\n",
    "  - greet\n",
    "  - goodbye\n",
    "\n",
    "slots:\n",
    "  id:\n",
    "    type: text\n",
    "\n",
    "actions:\n",
    "- memory_visit\n",
    "- utter_goodbye\n",
    "\n",
    "templates:\n",
    "  utter_goodbye:\n",
    "  - text: \"Hope to see ya again buddie\"\n",
    "  - text: \"Don't lose yourself in that lands\"\n",
    "\"\"\"\n",
    "%store domain_yml > domain.yml\n",
    "\n",
    "print(\"The domain has been successfully saved inside the domain.yml file. You can move on to the next step!\")"
   ]
  },
  {
   "cell_type": "code",
   "execution_count": null,
   "metadata": {},
   "outputs": [],
   "source": [
    "!python -m rasa_core.train -d C:\\Users\\Alex\\Projects\\rasabot\\domain.yml -s C:\\Users\\Alex\\Projects\\rasabot\\stories.md -o models/dialogue"
   ]
  },
  {
   "cell_type": "code",
   "execution_count": null,
   "metadata": {},
   "outputs": [],
   "source": [
    "import IPython\n",
    "from IPython.display import clear_output, HTML, display\n",
    "from rasa_core.agent import Agent\n",
    "from rasa_core.interpreter import RasaNLUInterpreter\n",
    "import time\n",
    "\n",
    "interpreter = RasaNLUInterpreter('models/current/nlu')\n",
    "messages = [\"Hi! you can chat in this window. Type 'stop' to end the conversation.\"]\n",
    "agent = Agent.load('models/dialogue', interpreter=interpreter)\n",
    "\n",
    "def chatlogs_html(messages):\n",
    "    messages_html = \"\"\n",
    "    for m in messages:\n",
    "        if m.endswith('.jpg'):\n",
    "             messages_html += \"<img src={}, alt='Tiger pub'></img>\".format(m)\n",
    "        else:\n",
    "             messages_html += \"<p>{}</p>\".format(m)\n",
    "    chatbot_html = \"\"\"<div class=\"chat-window\" {}</div>\"\"\".format(messages_html)\n",
    "    return chatbot_html\n",
    "\n",
    "\n",
    "while True:\n",
    "    clear_output()\n",
    "    display(HTML(chatlogs_html(messages)))\n",
    "    time.sleep(0.3)\n",
    "    a = input()\n",
    "    messages.append(a)\n",
    "    if a == 'stop':\n",
    "        break\n",
    "    responses = agent.handle_message(a)\n",
    "    for r in responses:\n",
    "        key = 'image' if 'image' in r.keys() else 'text'\n",
    "        messages.append(r.get(key))"
   ]
  },
  {
   "cell_type": "code",
   "execution_count": null,
   "metadata": {},
   "outputs": [],
   "source": [
    "!python -m rasa_core.run -d C:\\Users\\Alex\\Projects\\models\\dialogue -u C:\\Users\\Alex\\Projects\\models/current/nlu --endpoints C:\\Users\\Alex\\Projects\\endpoints.yml"
   ]
  },
  {
   "cell_type": "code",
   "execution_count": null,
   "metadata": {},
   "outputs": [],
   "source": []
  },
  {
   "cell_type": "code",
   "execution_count": null,
   "metadata": {},
   "outputs": [],
   "source": [
    "!python -m rasa_core_sdk.endpoint --actions actions"
   ]
  },
  {
   "cell_type": "code",
   "execution_count": null,
   "metadata": {},
   "outputs": [],
   "source": []
  }
 ],
 "metadata": {
  "kernelspec": {
   "display_name": "Python 3",
   "language": "python",
   "name": "python3"
  },
  "language_info": {
   "codemirror_mode": {
    "name": "ipython",
    "version": 3
   },
   "file_extension": ".py",
   "mimetype": "text/x-python",
   "name": "python",
   "nbconvert_exporter": "python",
   "pygments_lexer": "ipython3",
   "version": "3.6.1"
  }
 },
 "nbformat": 4,
 "nbformat_minor": 2
}
